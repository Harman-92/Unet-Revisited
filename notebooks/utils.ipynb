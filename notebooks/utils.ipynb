{
 "cells": [
  {
   "cell_type": "code",
   "execution_count": 20,
   "metadata": {},
   "outputs": [],
   "source": [
    "import cv2\n",
    "import os\n",
    "import glob\n",
    "import numpy as np\n",
    "%matplotlib inline\n",
    "import matplotlib.pyplot as plt"
   ]
  },
  {
   "cell_type": "code",
   "execution_count": 23,
   "metadata": {},
   "outputs": [],
   "source": [
    "# Python code for merging ground masks\n",
    "\n",
    "# labels = [HE,EX,MA] , 0 means background\n",
    "labels=[1,2,3]\n",
    "\n",
    "\n",
    "\n",
    "#Given an image mask, assign it a particular label\n",
    "\n",
    "def label_gen(val,img):  \n",
    "    return np.where(img>0, val, img)\n",
    "\n",
    "# Uncomment below for train\n",
    "# Get input image paths\n",
    "\n",
    "train_dir = os.path.join(os.path.abspath('..'),'data','train')\n",
    "\n",
    "# Current folder is UNet-Revisited/notebooks\n",
    "\n",
    "path1 = os.path.join(train_dir,'masks_Haemorrhages')\n",
    "f_path1= os.listdir(path1)\n",
    "path2 = os.path.join(train_dir,'masks_Hard_Exudates')\n",
    "f_path2= os.listdir(path2)\n",
    "path3 = os.path.join(train_dir,'masks_Microaneurysms')\n",
    "f_path3= os.listdir(path3)\n",
    "\n",
    "# Newly created masks folder\n",
    "out= os.path.join(train_dir,'masks_new')\n",
    "\n",
    "names=[([],f_path1,path1),([],f_path2,path2),([],f_path3,path3)]\n",
    "\n",
    "\n",
    "for temp,path,name in names:\n",
    "    f_path=path\n",
    "    p_val=iter(f_path)\n",
    "    p=next(p_val)\n",
    "    for i in range(1,55): \n",
    "        if(int(p[6:8]))==i:\n",
    "            s=os.path.join(name,p)\n",
    "            #print(s)\n",
    "            temp.append(f'{s}')\n",
    "            #print(temp)\n",
    "            if(int(p[6:8])<54):\n",
    "                p=next(p_val)\n",
    "        else:\n",
    "            temp.append('')\n",
    "\n",
    "# Contains all input paths        \n",
    "image_paths=np.column_stack((names[0][0],names[1][0],names[2][0]))\n",
    "\n",
    "\n",
    "# # Get input image paths\n",
    "\n",
    "# test_dir = os.path.join(os.path.abspath('..'),'data','test')\n",
    "\n",
    "# # Current folder is UNet-Revisited/notebooks\n",
    "\n",
    "# path1 = os.path.join(test_dir,'masks_Haemorrhages')\n",
    "# f_path1= sorted(glob.glob(os.path.join(path1,'*.tif')))\n",
    "# path2 = os.path.join(test_dir,'masks_Hard_Exudates')\n",
    "# f_path2= sorted(glob.glob(os.path.join(path2,'*.tif')))\n",
    "# path3 = os.path.join(test_dir,'masks_Microaneurysms')\n",
    "# f_path3= sorted(glob.glob(os.path.join(path3,'*.tif')))\n",
    "\n",
    "# # Newly created masks folder\n",
    "# out= os.path.join(test_dir,'masks_new')\n",
    "\n",
    "\n",
    "            \n",
    "# # Contains all input paths        \n",
    "# image_paths=np.column_stack((f_path1,f_path2,f_path3))\n",
    "\n",
    " \n",
    "    "
   ]
  },
  {
   "cell_type": "code",
   "execution_count": 24,
   "metadata": {},
   "outputs": [],
   "source": [
    "# Merge multiple masks into one for every input image\n",
    "\n",
    "for j,img_path in enumerate(image_paths):\n",
    "    \n",
    "    # Temporary array containing all colored image masks for a particular image\n",
    "    array_images=[]\n",
    "    \n",
    "    for i,image in enumerate(img_path):\n",
    "        if image:\n",
    "            img=cv2.imread(image,cv2.IMREAD_GRAYSCALE)\n",
    "            array_images.append(label_gen(labels[i],img))    \n",
    "    final=np.maximum.reduce(array_images).astype(np.uint8)\n",
    "    \n",
    "    #Combine into single image  \n",
    "    #name='IDRiD_'+str(j+55)+'.png'\n",
    "    #for train\n",
    "    if len(str(j+1)) ==1:\n",
    "        \n",
    "        name='IDRiD_0'+str(j+1)+'.png' \n",
    "    else:\n",
    "        name='IDRiD_'+str(j+1)+'.png'\n",
    "    out_name=os.path.join(out,name)\n",
    "    cv2.imwrite(out_name,final,[cv2.IMWRITE_PNG_COMPRESSION, 0])   "
   ]
  },
  {
   "cell_type": "code",
   "execution_count": null,
   "metadata": {},
   "outputs": [],
   "source": [
    "# #Python code for merging ground masks \n",
    "\n",
    "# #Color coding for new masks\n",
    "# #Normal - Black(0,0,0)\n",
    "# #HE - Blue(0,128,192)\n",
    "# #EX - Red(128,0,0)\n",
    "# #MA - Yellow(192,192,0)\n",
    "# #SE - Green(64,192,0)\n",
    "# ##Note these color names are just visual guides\n",
    "# colors=[(0,128,192) , (128,0,0) , (192,192,0), (64,192,0)]\n",
    "# #colors=[1,2,3,4]\n",
    "# #Given an image mask, assign it a particular color\n",
    "# def coloring(r_val,g_val,b_val,img):\n",
    "#     b=np.where(img>0, b_val, img)\n",
    "#     g=np.where(img>0, g_val, img)\n",
    "#     r=np.where(img>0, r_val, img)\n",
    "#     return cv2.merge((b,g,r))\n",
    "# #def coloring(val,img):  \n",
    "#     #return np.where(img>0, val, img)\n",
    "# #Get input image paths\n",
    "# #Current folder is Train\n",
    "# path1 = os.path.join(os.getcwd(),'masks_Haemorrhages')\n",
    "# f_path1= os.listdir(path1)\n",
    "# path2 = os.path.join(os.getcwd(),'masks_Hard_Exudates')\n",
    "# f_path2= os.listdir(path2)\n",
    "# path3 = os.path.join(os.getcwd(),'masks_Microaneurysms')\n",
    "# f_path3= os.listdir(path3)\n",
    "# path4 = os.path.join(os.getcwd(),'masks_Soft_Exudates')\n",
    "# f_path4= os.listdir(path4)\n",
    "\n",
    "# #Newly created masks folder\n",
    "# out= os.path.join(os.getcwd(),'colored_masks')\n",
    "\n",
    "# names=[([],f_path1,path1),([],f_path2,path2),([],f_path3,path3),([],f_path4,path4)]\n",
    "\n",
    "# for temp,path,name in names:\n",
    "#     f_path=path\n",
    "#     p_val=iter(f_path)\n",
    "#     p=next(p_val)\n",
    "#     for i in range(1,55): \n",
    "#         if(int(p[6:8]))==i:\n",
    "#             s=os.path.join(name,p)\n",
    "#             #print(s)\n",
    "#             temp.append(f'{s}')\n",
    "#             #print(temp)\n",
    "#             if(int(p[6:8])<54):\n",
    "#                 p=next(p_val)\n",
    "#         else:\n",
    "#             temp.append('')\n",
    "\n",
    "# #Contains all input paths        \n",
    "# image_paths=np.column_stack((names[0][0],names[1][0],names[2][0],names[3][0]))\n",
    "\n",
    " \n",
    "    "
   ]
  },
  {
   "cell_type": "code",
   "execution_count": null,
   "metadata": {},
   "outputs": [],
   "source": [
    "# #Merge multiple masks into one for every input image\n",
    "# for j,img_path in enumerate(image_paths):\n",
    "#     #Temporary array containing all colored image masks for a particular image\n",
    "#     array_images=[]\n",
    "#     for i,image in enumerate(img_path):\n",
    "#         if image:\n",
    "#             img=cv2.imread(image,cv2.IMREAD_GRAYSCALE)\n",
    "#             array_images.append(coloring(*colors[i],img))    \n",
    "#     final=np.maximum.reduce(array_images).astype(np.uint8)\n",
    "#     #print(np.count_nonzero(final == 1),np.count_nonzero(final == 2),np.count_nonzero(final == 3),np.count_nonzero(final == 4))\n",
    "#     #Combine into single image  \n",
    "#     name='IDRiD_'+str(j+1)+'.tif'\n",
    "#     out_name=os.path.join(out,name)\n",
    "#     cv2.imwrite(out_name,final)   "
   ]
  },
  {
   "cell_type": "code",
   "execution_count": 3,
   "metadata": {},
   "outputs": [
    {
     "name": "stdout",
     "output_type": "stream",
     "text": [
      "<class 'tuple'>\n",
      "(485, 731, 3)\n"
     ]
    }
   ],
   "source": [
    "# # Preprocessing (Optional)\n",
    "\n",
    "\n",
    "\n",
    "\n",
    "# def reduce_resolution(image, size):\n",
    "#     dim = (size, size)\n",
    "#     resized_image = cv2.resize(image, dim, interpolation=cv2.INTER_AREA)\n",
    "#     print('Re-sized Dimensions : ', resized_image.shape)\n",
    "#     return resized_image\n",
    "\n",
    "\n",
    "# def scaleradius(img, scale):\n",
    "#     x = img[int(img.shape[0] / 2), :, :].sum(1)\n",
    "#     r = (x > x.mean() / 10).sum() / 2\n",
    "#     s = scale * 1.0 / r\n",
    "#     return cv2.resize(img, (0, 0), fx=s, fy=s)\n",
    "\n",
    "\n",
    "# def normalization(image):\n",
    "#     image = cv2.addWeighted(image, 4, cv2.GaussianBlur(image, (0, 0), 100), -4, 128)\n",
    "#     return image\n",
    "\n",
    "\n",
    "# def enhance(image, clip_limit=1):\n",
    "#     # convert image to LAB color model\n",
    "#     image_lab = cv2.cvtColor(image, cv2.COLOR_BGR2LAB)\n",
    "\n",
    "#     # split the image into L, A, and B channels\n",
    "#     l_channel, a_channel, b_channel = cv2.split(image_lab)\n",
    "\n",
    "#     # apply CLAHE to lightness channel\n",
    "#     clahe = cv2.createCLAHE(clipLimit=clip_limit, tileGridSize=(8, 8))\n",
    "#     cl = clahe.apply(l_channel)\n",
    "\n",
    "#     # merge the CLAHE enhanced L channel with the original A and B channel\n",
    "#     merged_channels = cv2.merge((cl, a_channel, b_channel))\n",
    "\n",
    "#     # convert image from LAB color model back to BGR color model\n",
    "#     final_image = cv2.cvtColor(merged_channels, cv2.COLOR_LAB2BGR)\n",
    "#     return final_image\n",
    "\n",
    "\n",
    "# #image = cv2.imread(os.path.join(utils.get_train_dir(), \"images\", \"IDRiD_02.tif\"))\n",
    "# image = cv2.imread('../data/Train/original_retinal_images/IDRiD_01.jpg')\n",
    "# print(type(image.shape))\n",
    "# # path=os.path.join()\n",
    "# # images = utils.read_images_from_folder(args.model_category, args.directory, args.image_format)\n",
    "# # print(len(images))\n",
    "\n",
    "# image = scaleradius(image, 300)\n",
    "# image = normalization(image)\n",
    "# print(image.shape)\n",
    "# image = enhance(image)\n",
    "# cv2.imshow('image', image)\n",
    "# cv2.waitKey(0)\n",
    "# cv2.destroyAllWindows()"
   ]
  },
  {
   "cell_type": "code",
   "execution_count": 2,
   "metadata": {},
   "outputs": [],
   "source": [
    "def read_image(image_name):\n",
    "    return cv2.imread(image_name, cv2.IMREAD_UNCHANGED)\n",
    "\n",
    "\n",
    "def display_image(image):\n",
    "    cv2.imshow('image', image)\n",
    "    cv2.waitKey(0)\n",
    "    cv2.destroyAllWindows()\n",
    "\n",
    "\n",
    "def save_image(file_name, image):\n",
    "    cv2.imwrite(file_name + \".jpg\", image)"
   ]
  },
  {
   "cell_type": "code",
   "execution_count": 35,
   "metadata": {},
   "outputs": [
    {
     "data": {
      "text/plain": [
       "(2848, 4288)"
      ]
     },
     "execution_count": 35,
     "metadata": {},
     "output_type": "execute_result"
    }
   ],
   "source": [
    "path = os.path.join(os.path.abspath('..'),'data','train','masks_Haemorrhages','IDRiD_17_HE.tif')\n",
    "\n",
    "x= cv2.imread(path,cv2.IMREAD_UNCHANGED)\n",
    "\n",
    "x.shape"
   ]
  },
  {
   "cell_type": "code",
   "execution_count": 36,
   "metadata": {},
   "outputs": [
    {
     "data": {
      "text/plain": [
       "(array([ 0, 76], dtype=uint8), array([10390902,  1821322], dtype=int64))"
      ]
     },
     "execution_count": 36,
     "metadata": {},
     "output_type": "execute_result"
    }
   ],
   "source": [
    "np.unique(x,return_counts=True)"
   ]
  },
  {
   "cell_type": "code",
   "execution_count": 25,
   "metadata": {},
   "outputs": [
    {
     "data": {
      "text/plain": [
       "(2848, 4288)"
      ]
     },
     "execution_count": 25,
     "metadata": {},
     "output_type": "execute_result"
    }
   ],
   "source": [
    "mask = os.path.join(os.path.abspath('..'),'data','train','masks_new','IDRiD_17.png')\n",
    "\n",
    "x= read_image(mask)\n",
    "\n",
    "x.shape"
   ]
  },
  {
   "cell_type": "code",
   "execution_count": 10,
   "metadata": {},
   "outputs": [],
   "source": [
    "channels = len(np.unique(x))"
   ]
  },
  {
   "cell_type": "code",
   "execution_count": 12,
   "metadata": {},
   "outputs": [],
   "source": [
    "#number of categories\n",
    "\n",
    "img_cat = np.eye(channels)[x]"
   ]
  },
  {
   "cell_type": "code",
   "execution_count": 13,
   "metadata": {},
   "outputs": [
    {
     "data": {
      "text/plain": [
       "(2848, 4288, 4)"
      ]
     },
     "execution_count": 13,
     "metadata": {},
     "output_type": "execute_result"
    }
   ],
   "source": [
    "img_cat.shape"
   ]
  },
  {
   "cell_type": "code",
   "execution_count": 14,
   "metadata": {},
   "outputs": [],
   "source": [
    "background = img_cat[:,:,0]\n"
   ]
  },
  {
   "cell_type": "code",
   "execution_count": 18,
   "metadata": {},
   "outputs": [
    {
     "data": {
      "text/plain": [
       "(array([0., 1.]), array([ 2036827, 10175397], dtype=int64))"
      ]
     },
     "execution_count": 18,
     "metadata": {},
     "output_type": "execute_result"
    }
   ],
   "source": [
    "np.unique(background,return_counts=True)"
   ]
  },
  {
   "cell_type": "code",
   "execution_count": 26,
   "metadata": {},
   "outputs": [
    {
     "data": {
      "text/plain": [
       "<matplotlib.image.AxesImage at 0x1ce035d5d30>"
      ]
     },
     "execution_count": 26,
     "metadata": {},
     "output_type": "execute_result"
    },
    {
     "data": {
      "image/png": "[encoded data removed]",
      "text/plain": [
       "<Figure size 432x288 with 1 Axes>"
      ]
     },
     "metadata": {
      "needs_background": "light"
     },
     "output_type": "display_data"
    }
   ],
   "source": [
    "plt.imshow(x)"
   ]
  },
  {
   "cell_type": "code",
   "execution_count": 27,
   "metadata": {},
   "outputs": [],
   "source": [
    "y=np.eye(4)[x]"
   ]
  },
  {
   "cell_type": "code",
   "execution_count": 29,
   "metadata": {},
   "outputs": [
    {
     "data": {
      "text/plain": [
       "(2848, 4288, 4)"
      ]
     },
     "execution_count": 29,
     "metadata": {},
     "output_type": "execute_result"
    }
   ],
   "source": [
    "y.shape"
   ]
  },
  {
   "cell_type": "code",
   "execution_count": 30,
   "metadata": {},
   "outputs": [
    {
     "data": {
      "text/plain": [
       "<matplotlib.image.AxesImage at 0x1ce04ba8dc0>"
      ]
     },
     "execution_count": 30,
     "metadata": {},
     "output_type": "execute_result"
    },
    {
     "data": {
      "image/png": "[encoded data removed]",
      "text/plain": [
       "<Figure size 432x288 with 1 Axes>"
      ]
     },
     "metadata": {
      "needs_background": "light"
     },
     "output_type": "display_data"
    }
   ],
   "source": [
    "plt.imshow(y[:,:,1])"
   ]
  },
  {
   "cell_type": "code",
   "execution_count": null,
   "metadata": {},
   "outputs": [],
   "source": []
  }
 ],
 "metadata": {
  "kernelspec": {
   "display_name": "Python 3",
   "language": "python",
   "name": "python3"
  },
  "language_info": {
   "codemirror_mode": {
    "name": "ipython",
    "version": 3
   },
   "file_extension": ".py",
   "mimetype": "text/x-python",
   "name": "python",
   "nbconvert_exporter": "python",
   "pygments_lexer": "ipython3",
   "version": "3.8.3"
  }
 },
 "nbformat": 4,
 "nbformat_minor": 1
}
